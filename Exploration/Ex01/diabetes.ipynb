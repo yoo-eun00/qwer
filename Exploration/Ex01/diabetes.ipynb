{
 "cells": [
  {
   "cell_type": "markdown",
   "metadata": {},
   "source": [
    "### 프로젝트 1 : 손수 설계하는 선형회귀, 당뇨병 수치를 맞춰보자!"
   ]
  },
  {
   "cell_type": "code",
   "execution_count": 1,
   "metadata": {},
   "outputs": [],
   "source": [
    "import sklearn\n",
    "import seaborn as sns\n",
    "import numpy as np\n",
    "import pandas as pd\n",
    "import matplotlib.pyplot as plt\n",
    "\n",
    "from sklearn.datasets import load_diabetes\n",
    "from sklearn.model_selection import train_test_split"
   ]
  },
  {
   "cell_type": "code",
   "execution_count": 2,
   "metadata": {},
   "outputs": [
    {
     "name": "stdout",
     "output_type": "stream",
     "text": [
      "(442, 10)\n",
      "(442,)\n"
     ]
    }
   ],
   "source": [
    "# load dataset\n",
    "\n",
    "diabetes = load_diabetes()\n",
    "\n",
    "df_X, df_y = diabetes.data, diabetes.target\n",
    "\n",
    "print(df_X.shape)\n",
    "print(df_y.shape)"
   ]
  },
  {
   "cell_type": "code",
   "execution_count": 3,
   "metadata": {},
   "outputs": [
    {
     "data": {
      "text/html": [
       "<div>\n",
       "<style scoped>\n",
       "    .dataframe tbody tr th:only-of-type {\n",
       "        vertical-align: middle;\n",
       "    }\n",
       "\n",
       "    .dataframe tbody tr th {\n",
       "        vertical-align: top;\n",
       "    }\n",
       "\n",
       "    .dataframe thead th {\n",
       "        text-align: right;\n",
       "    }\n",
       "</style>\n",
       "<table border=\"1\" class=\"dataframe\">\n",
       "  <thead>\n",
       "    <tr style=\"text-align: right;\">\n",
       "      <th></th>\n",
       "      <th>age</th>\n",
       "      <th>sex</th>\n",
       "      <th>bmi</th>\n",
       "      <th>bp</th>\n",
       "      <th>s1</th>\n",
       "      <th>s2</th>\n",
       "      <th>s3</th>\n",
       "      <th>s4</th>\n",
       "      <th>s5</th>\n",
       "      <th>s6</th>\n",
       "      <th>target</th>\n",
       "    </tr>\n",
       "  </thead>\n",
       "  <tbody>\n",
       "    <tr>\n",
       "      <th>0</th>\n",
       "      <td>0.038076</td>\n",
       "      <td>0.050680</td>\n",
       "      <td>0.061696</td>\n",
       "      <td>0.021872</td>\n",
       "      <td>-0.044223</td>\n",
       "      <td>-0.034821</td>\n",
       "      <td>-0.043401</td>\n",
       "      <td>-0.002592</td>\n",
       "      <td>0.019907</td>\n",
       "      <td>-0.017646</td>\n",
       "      <td>151.0</td>\n",
       "    </tr>\n",
       "    <tr>\n",
       "      <th>1</th>\n",
       "      <td>-0.001882</td>\n",
       "      <td>-0.044642</td>\n",
       "      <td>-0.051474</td>\n",
       "      <td>-0.026328</td>\n",
       "      <td>-0.008449</td>\n",
       "      <td>-0.019163</td>\n",
       "      <td>0.074412</td>\n",
       "      <td>-0.039493</td>\n",
       "      <td>-0.068332</td>\n",
       "      <td>-0.092204</td>\n",
       "      <td>75.0</td>\n",
       "    </tr>\n",
       "    <tr>\n",
       "      <th>2</th>\n",
       "      <td>0.085299</td>\n",
       "      <td>0.050680</td>\n",
       "      <td>0.044451</td>\n",
       "      <td>-0.005670</td>\n",
       "      <td>-0.045599</td>\n",
       "      <td>-0.034194</td>\n",
       "      <td>-0.032356</td>\n",
       "      <td>-0.002592</td>\n",
       "      <td>0.002861</td>\n",
       "      <td>-0.025930</td>\n",
       "      <td>141.0</td>\n",
       "    </tr>\n",
       "    <tr>\n",
       "      <th>3</th>\n",
       "      <td>-0.089063</td>\n",
       "      <td>-0.044642</td>\n",
       "      <td>-0.011595</td>\n",
       "      <td>-0.036656</td>\n",
       "      <td>0.012191</td>\n",
       "      <td>0.024991</td>\n",
       "      <td>-0.036038</td>\n",
       "      <td>0.034309</td>\n",
       "      <td>0.022688</td>\n",
       "      <td>-0.009362</td>\n",
       "      <td>206.0</td>\n",
       "    </tr>\n",
       "    <tr>\n",
       "      <th>4</th>\n",
       "      <td>0.005383</td>\n",
       "      <td>-0.044642</td>\n",
       "      <td>-0.036385</td>\n",
       "      <td>0.021872</td>\n",
       "      <td>0.003935</td>\n",
       "      <td>0.015596</td>\n",
       "      <td>0.008142</td>\n",
       "      <td>-0.002592</td>\n",
       "      <td>-0.031988</td>\n",
       "      <td>-0.046641</td>\n",
       "      <td>135.0</td>\n",
       "    </tr>\n",
       "  </tbody>\n",
       "</table>\n",
       "</div>"
      ],
      "text/plain": [
       "        age       sex       bmi        bp        s1        s2        s3  \\\n",
       "0  0.038076  0.050680  0.061696  0.021872 -0.044223 -0.034821 -0.043401   \n",
       "1 -0.001882 -0.044642 -0.051474 -0.026328 -0.008449 -0.019163  0.074412   \n",
       "2  0.085299  0.050680  0.044451 -0.005670 -0.045599 -0.034194 -0.032356   \n",
       "3 -0.089063 -0.044642 -0.011595 -0.036656  0.012191  0.024991 -0.036038   \n",
       "4  0.005383 -0.044642 -0.036385  0.021872  0.003935  0.015596  0.008142   \n",
       "\n",
       "         s4        s5        s6  target  \n",
       "0 -0.002592  0.019907 -0.017646   151.0  \n",
       "1 -0.039493 -0.068332 -0.092204    75.0  \n",
       "2 -0.002592  0.002861 -0.025930   141.0  \n",
       "3  0.034309  0.022688 -0.009362   206.0  \n",
       "4 -0.002592 -0.031988 -0.046641   135.0  "
      ]
     },
     "execution_count": 3,
     "metadata": {},
     "output_type": "execute_result"
    }
   ],
   "source": [
    "# check the dataset by converting into pandas dataframe\n",
    "df_diabetes = pd.DataFrame(df_X, columns=diabetes.feature_names)\n",
    "df_diabetes['target'] = pd.Series(diabetes.target)\n",
    "df_diabetes.head()"
   ]
  },
  {
   "cell_type": "code",
   "execution_count": 4,
   "metadata": {},
   "outputs": [
    {
     "name": "stdout",
     "output_type": "stream",
     "text": [
      "(353, 10) (89, 10) (353,) (89,)\n"
     ]
    }
   ],
   "source": [
    "# convert dataset into numpy array\n",
    "X, y = np.array(df_X), np.array(df_y)\n",
    "X_train, X_test, y_train, y_test = train_test_split(X, y, test_size=0.2, random_state=42)\n",
    "\n",
    "print(X_train.shape, X_test.shape, y_train.shape, y_test.shape)\n",
    "n_samples, n_features = X_train.shape[0], X_train.shape[1]"
   ]
  },
  {
   "cell_type": "code",
   "execution_count": 5,
   "metadata": {},
   "outputs": [
    {
     "name": "stdout",
     "output_type": "stream",
     "text": [
      "(10,) (1,)\n"
     ]
    }
   ],
   "source": [
    "# initialize parameters\n",
    "W = np.random.rand(n_features)\n",
    "b = np.random.rand(1)\n",
    "print(W.shape, b.shape)"
   ]
  },
  {
   "cell_type": "code",
   "execution_count": 6,
   "metadata": {},
   "outputs": [],
   "source": [
    "# define linear regression model\n",
    "def linear_regression(X, W, b):\n",
    "    y_pred = np.dot(X, W) + b\n",
    "    return y_pred"
   ]
  },
  {
   "cell_type": "code",
   "execution_count": 7,
   "metadata": {},
   "outputs": [],
   "source": [
    "# define loss function (MSE)\n",
    "def mean_squared_error(y_pred, y_true):\n",
    "    loss = ((y_pred - y_true)**2).mean()\n",
    "    return loss\n",
    "\n",
    "def loss(X, W, b, y_true):\n",
    "    y_pred = linear_regression(X, W, b)\n",
    "    loss = mean_squared_error(y_pred, y_true)\n",
    "    return loss"
   ]
  },
  {
   "cell_type": "code",
   "execution_count": 8,
   "metadata": {},
   "outputs": [],
   "source": [
    "# define gradient descent\n",
    "def gradient(X, W, b, y):\n",
    "    N = len(y)\n",
    "    y_pred = linear_regression(X, W, b)\n",
    "    dW = 2/N * X.T.dot(y_pred - y)\n",
    "    db = 2 * (y_pred - y).mean()\n",
    "    return dW, db"
   ]
  },
  {
   "cell_type": "code",
   "execution_count": 9,
   "metadata": {},
   "outputs": [
    {
     "name": "stdout",
     "output_type": "stream",
     "text": [
      "Iteration 100 : Loss 4004.99\n",
      "Iteration 200 : Loss 3442.25\n",
      "Iteration 300 : Loss 3214.09\n",
      "Iteration 400 : Loss 3093.64\n",
      "Iteration 500 : Loss 3022.57\n",
      "Iteration 600 : Loss 2978.78\n",
      "Iteration 700 : Loss 2951.22\n",
      "Iteration 800 : Loss 2933.60\n",
      "Iteration 900 : Loss 2922.16\n",
      "Iteration 1000 : Loss 2914.62\n",
      "Iteration 1100 : Loss 2909.57\n",
      "Iteration 1200 : Loss 2906.13\n",
      "Iteration 1300 : Loss 2903.74\n",
      "Iteration 1400 : Loss 2902.05\n",
      "Iteration 1500 : Loss 2900.84\n",
      "Iteration 1600 : Loss 2899.94\n",
      "Iteration 1700 : Loss 2899.26\n",
      "Iteration 1800 : Loss 2898.74\n",
      "Iteration 1900 : Loss 2898.33\n",
      "Iteration 2000 : Loss 2897.99\n",
      "Iteration 2100 : Loss 2897.72\n",
      "Iteration 2200 : Loss 2897.48\n",
      "Iteration 2300 : Loss 2897.27\n",
      "Iteration 2400 : Loss 2897.08\n",
      "Iteration 2500 : Loss 2896.92\n",
      "Iteration 2600 : Loss 2896.76\n",
      "Iteration 2700 : Loss 2896.61\n",
      "Iteration 2800 : Loss 2896.47\n",
      "Iteration 2900 : Loss 2896.34\n",
      "Iteration 3000 : Loss 2896.21\n",
      "Iteration 3100 : Loss 2896.09\n",
      "Iteration 3200 : Loss 2895.96\n",
      "Iteration 3300 : Loss 2895.84\n",
      "Iteration 3400 : Loss 2895.72\n",
      "Iteration 3500 : Loss 2895.61\n",
      "Iteration 3600 : Loss 2895.49\n",
      "Iteration 3700 : Loss 2895.37\n",
      "Iteration 3800 : Loss 2895.26\n",
      "Iteration 3900 : Loss 2895.15\n",
      "Iteration 4000 : Loss 2895.03\n",
      "Iteration 4100 : Loss 2894.92\n",
      "Iteration 4200 : Loss 2894.81\n",
      "Iteration 4300 : Loss 2894.70\n",
      "Iteration 4400 : Loss 2894.59\n",
      "Iteration 4500 : Loss 2894.48\n",
      "Iteration 4600 : Loss 2894.37\n",
      "Iteration 4700 : Loss 2894.26\n",
      "Iteration 4800 : Loss 2894.16\n",
      "Iteration 4900 : Loss 2894.05\n",
      "Iteration 5000 : Loss 2893.94\n"
     ]
    },
    {
     "data": {
      "image/png": "[encoded data removed]",
      "text/plain": [
       "<Figure size 640x480 with 1 Axes>"
      ]
     },
     "metadata": {},
     "output_type": "display_data"
    }
   ],
   "source": [
    "losses = []\n",
    "LEARNING_RATE = 0.5\n",
    "\n",
    "for i in range(1, 5001):\n",
    "    dW, db = gradient(X_train, W, b, y_train)\n",
    "    W -= LEARNING_RATE * dW\n",
    "    b -= LEARNING_RATE * db\n",
    "    L = loss(X_train, W, b, y_train)\n",
    "    losses.append(L)\n",
    "    if i % 100 == 0:\n",
    "        print('Iteration %d : Loss %0.2f' % (i, L))\n",
    "\n",
    "plt.plot(losses)\n",
    "plt.show()"
   ]
  },
  {
   "cell_type": "code",
   "execution_count": 10,
   "metadata": {},
   "outputs": [
    {
     "name": "stdout",
     "output_type": "stream",
     "text": [
      "Mean Squared Error on Test Data : 2885.282558290309\n"
     ]
    }
   ],
   "source": [
    "# evaluate the model\n",
    "y_pred = linear_regression(X_test, W, b)\n",
    "mse = mean_squared_error(y_pred, y_test)\n",
    "print('Mean Squared Error on Test Data :', mse)"
   ]
  },
  {
   "cell_type": "code",
   "execution_count": 11,
   "metadata": {},
   "outputs": [
    {
     "data": {
      "image/png": "[encoded data removed]",
      "text/plain": [
       "<Figure size 1000x600 with 1 Axes>"
      ]
     },
     "metadata": {},
     "output_type": "display_data"
    }
   ],
   "source": [
    "# plot the predicted values with humidity\n",
    "plt.figure(figsize=(10, 6))\n",
    "plt.scatter(X_test[:, 0], y_test, label='Ground Truth')\n",
    "plt.scatter(X_test[:, 0], y_pred, label='Predictions')\n",
    "plt.xlabel('age')\n",
    "plt.ylabel('Count')\n",
    "plt.legend()\n",
    "plt.show()"
   ]
  }
 ],
 "metadata": {
  "kernelspec": {
   "display_name": "learning",
   "language": "python",
   "name": "python3"
  },
  "language_info": {
   "codemirror_mode": {
    "name": "ipython",
    "version": 3
   },
   "file_extension": ".py",
   "mimetype": "text/x-python",
   "name": "python",
   "nbconvert_exporter": "python",
   "pygments_lexer": "ipython3",
   "version": "3.8.17"
  }
 },
 "nbformat": 4,
 "nbformat_minor": 2
}
